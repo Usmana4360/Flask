{
 "cells": [
  {
   "cell_type": "code",
   "execution_count": 10,
   "metadata": {},
   "outputs": [],
   "source": [
    "import numpy as np\n",
    "from sklearn.linear_model import LinearRegression\n",
    "import pickle\n",
    "import pandas as pd\n",
    "df=pd.read_json(\"House_Price.json\")\n",
    "x=df['Area(in sq. ft)'].values.reshape(-1,1)\n",
    "y=df['Price(in Rs.)'].values.reshape(-1,1)\n",
    "model=LinearRegression()\n",
    "model.fit(x,y)\n",
    "pickle.dump(model,open('mode.pkl','wb'))\n"
   ]
  }
 ],
 "metadata": {
  "kernelspec": {
   "display_name": "flask_env",
   "language": "python",
   "name": "python3"
  },
  "language_info": {
   "codemirror_mode": {
    "name": "ipython",
    "version": 3
   },
   "file_extension": ".py",
   "mimetype": "text/x-python",
   "name": "python",
   "nbconvert_exporter": "python",
   "pygments_lexer": "ipython3",
   "version": "3.11.5"
  }
 },
 "nbformat": 4,
 "nbformat_minor": 2
}
